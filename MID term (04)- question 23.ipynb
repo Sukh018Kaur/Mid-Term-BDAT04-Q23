{
 "cells": [
  {
   "cell_type": "markdown",
   "id": "48822a23",
   "metadata": {},
   "source": [
    "# Question 23"
   ]
  },
  {
   "cell_type": "markdown",
   "id": "e7889c19",
   "metadata": {},
   "source": [
    "In a jupyter notebook solve the following question using python. Please upload the notebook to GitHub and provide the link\n",
    "submission box below.\n",
    "\n",
    "Develop a recursive function tough() that takes two nonnegative integer arguments and outputs a pattern as shown below.\n",
    "Hint: The first argument represents the indentation of the pattern, where the second argument --always a pattern of 2 indicates\n",
    "the number *s in the longest line of *s in the pattern"
   ]
  },
  {
   "cell_type": "code",
   "execution_count": 1,
   "id": "67c97c0f",
   "metadata": {},
   "outputs": [],
   "source": [
    "def tough(indent, num):\n",
    "    def f(indent, num):\n",
    "        if num > 0:\n",
    "            f(indent, num // 2)                # print previous pattern\n",
    "            print(\" \" * indent + \"*\" * num)     # print middle row of *'s\n",
    "            f(indent + 1, num // 2)            # print previous pattern indented\n",
    "    \n",
    "    f(indent, num)\n",
    "tough(0, 0)"
   ]
  },
  {
   "cell_type": "code",
   "execution_count": 6,
   "id": "a7911d9f",
   "metadata": {},
   "outputs": [
    {
     "name": "stdout",
     "output_type": "stream",
     "text": [
      "*\n"
     ]
    }
   ],
   "source": [
    "def tough(indent, num):\n",
    "    def f(indent, num):\n",
    "        if num > 0:\n",
    "            f(indent, num // 2)                # print previous pattern\n",
    "            print(\" \" * indent + \"*\" * num)     # print middle row of *'s\n",
    "            f(indent + 1, num // 2)            # print previous pattern indented\n",
    "    \n",
    "    f(indent, num)\n",
    "\n",
    "tough(0, 1)"
   ]
  },
  {
   "cell_type": "code",
   "execution_count": 7,
   "id": "3ac884dd",
   "metadata": {},
   "outputs": [
    {
     "name": "stdout",
     "output_type": "stream",
     "text": [
      "*\n",
      "**\n",
      " *\n"
     ]
    }
   ],
   "source": [
    "def tough(indent, num):\n",
    "    def f(indent, num):\n",
    "        if num > 0:\n",
    "            f(indent, num // 2)                # print previous pattern\n",
    "            print(\" \" * indent + \"*\" * num)     # print middle row of *'s\n",
    "            f(indent + 1, num // 2)            # print previous pattern indented\n",
    "    \n",
    "    f(indent, num)\n",
    "\n",
    "tough(0, 2)"
   ]
  },
  {
   "cell_type": "code",
   "execution_count": 8,
   "id": "a193cf3d",
   "metadata": {},
   "outputs": [
    {
     "name": "stdout",
     "output_type": "stream",
     "text": [
      "*\n",
      "**\n",
      " *\n",
      "****\n",
      " *\n",
      " **\n",
      "  *\n"
     ]
    }
   ],
   "source": [
    "def tough(indent, num):\n",
    "    def f(indent, num):\n",
    "        if num > 0:\n",
    "            f(indent, num // 2)                # print previous pattern\n",
    "            print(\" \" * indent + \"*\" * num)     # print middle row of *'s\n",
    "            f(indent + 1, num // 2)            # print previous pattern indented\n",
    "    \n",
    "    f(indent, num)\n",
    "\n",
    "tough(0, 4)"
   ]
  },
  {
   "cell_type": "code",
   "execution_count": null,
   "id": "a4197476",
   "metadata": {},
   "outputs": [],
   "source": []
  }
 ],
 "metadata": {
  "kernelspec": {
   "display_name": "Python 3 (ipykernel)",
   "language": "python",
   "name": "python3"
  },
  "language_info": {
   "codemirror_mode": {
    "name": "ipython",
    "version": 3
   },
   "file_extension": ".py",
   "mimetype": "text/x-python",
   "name": "python",
   "nbconvert_exporter": "python",
   "pygments_lexer": "ipython3",
   "version": "3.11.4"
  }
 },
 "nbformat": 4,
 "nbformat_minor": 5
}
